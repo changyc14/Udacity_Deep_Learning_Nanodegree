{
 "cells": [
  {
   "cell_type": "markdown",
   "metadata": {
    "collapsed": true,
    "deletable": true,
    "editable": true
   },
   "source": [
    "# Image Classification\n",
    "In this project, you'll classify images from the [CIFAR-10 dataset](https://www.cs.toronto.edu/~kriz/cifar.html).  The dataset consists of airplanes, dogs, cats, and other objects. You'll preprocess the images, then train a convolutional neural network on all the samples. The images need to be normalized and the labels need to be one-hot encoded.  You'll get to apply what you learned and build a convolutional, max pooling, dropout, and fully connected layers.  At the end, you'll get to see your neural network's predictions on the sample images.\n",
    "## Get the Data\n",
    "Run the following cell to download the [CIFAR-10 dataset for python](https://www.cs.toronto.edu/~kriz/cifar-10-python.tar.gz)."
   ]
  },
  {
   "cell_type": "code",
   "execution_count": 1,
   "metadata": {
    "collapsed": false,
    "deletable": true,
    "editable": true
   },
   "outputs": [
    {
     "name": "stdout",
     "output_type": "stream",
     "text": [
      "All files found!\n"
     ]
    }
   ],
   "source": [
    "\"\"\"\n",
    "DON'T MODIFY ANYTHING IN THIS CELL THAT IS BELOW THIS LINE\n",
    "\"\"\"\n",
    "from urllib.request import urlretrieve\n",
    "from os.path import isfile, isdir\n",
    "from tqdm import tqdm\n",
    "import problem_unittests as tests\n",
    "import tarfile\n",
    "\n",
    "cifar10_dataset_folder_path = 'cifar-10-batches-py'\n",
    "\n",
    "# Use Floyd's cifar-10 dataset if present\n",
    "floyd_cifar10_location = '/input/cifar-10/python.tar.gz'\n",
    "if isfile(floyd_cifar10_location):\n",
    "    tar_gz_path = floyd_cifar10_location\n",
    "else:\n",
    "    tar_gz_path = 'cifar-10-python.tar.gz'\n",
    "\n",
    "class DLProgress(tqdm):\n",
    "    last_block = 0\n",
    "\n",
    "    def hook(self, block_num=1, block_size=1, total_size=None):\n",
    "        self.total = total_size\n",
    "        self.update((block_num - self.last_block) * block_size)\n",
    "        self.last_block = block_num\n",
    "\n",
    "if not isfile(tar_gz_path):\n",
    "    with DLProgress(unit='B', unit_scale=True, miniters=1, desc='CIFAR-10 Dataset') as pbar:\n",
    "        urlretrieve(\n",
    "            'https://www.cs.toronto.edu/~kriz/cifar-10-python.tar.gz',\n",
    "            tar_gz_path,\n",
    "            pbar.hook)\n",
    "\n",
    "if not isdir(cifar10_dataset_folder_path):\n",
    "    with tarfile.open(tar_gz_path) as tar:\n",
    "        tar.extractall()\n",
    "        tar.close()\n",
    "\n",
    "\n",
    "tests.test_folder_path(cifar10_dataset_folder_path)"
   ]
  },
  {
   "cell_type": "markdown",
   "metadata": {
    "deletable": true,
    "editable": true
   },
   "source": [
    "## Explore the Data\n",
    "The dataset is broken into batches to prevent your machine from running out of memory.  The CIFAR-10 dataset consists of 5 batches, named `data_batch_1`, `data_batch_2`, etc.. Each batch contains the labels and images that are one of the following:\n",
    "* airplane\n",
    "* automobile\n",
    "* bird\n",
    "* cat\n",
    "* deer\n",
    "* dog\n",
    "* frog\n",
    "* horse\n",
    "* ship\n",
    "* truck\n",
    "\n",
    "Understanding a dataset is part of making predictions on the data.  Play around with the code cell below by changing the `batch_id` and `sample_id`. The `batch_id` is the id for a batch (1-5). The `sample_id` is the id for a image and label pair in the batch.\n",
    "\n",
    "Ask yourself \"What are all possible labels?\", \"What is the range of values for the image data?\", \"Are the labels in order or random?\".  Answers to questions like these will help you preprocess the data and end up with better predictions."
   ]
  },
  {
   "cell_type": "code",
   "execution_count": 2,
   "metadata": {
    "collapsed": false,
    "deletable": true,
    "editable": true
   },
   "outputs": [
    {
     "name": "stdout",
     "output_type": "stream",
     "text": [
      "\n",
      "Stats of batch 1:\n",
      "Samples: 10000\n",
      "Label Counts: {0: 1005, 1: 974, 2: 1032, 3: 1016, 4: 999, 5: 937, 6: 1030, 7: 1001, 8: 1025, 9: 981}\n",
      "First 20 Labels: [6, 9, 9, 4, 1, 1, 2, 7, 8, 3, 4, 7, 7, 2, 9, 9, 9, 3, 2, 6]\n",
      "\n",
      "Example of Image 5:\n",
      "Image - Min Value: 0 Max Value: 252\n",
      "Image - Shape: (32, 32, 3)\n",
      "Label - Label Id: 1 Name: automobile\n"
     ]
    },
    {
     "data": {
      "image/png": "[encoded data removed]",
      "text/plain": [
       "<matplotlib.figure.Figure at 0x7f8a2c0dfa20>"
      ]
     },
     "metadata": {
      "image/png": {
       "height": 250,
       "width": 253
      }
     },
     "output_type": "display_data"
    }
   ],
   "source": [
    "%matplotlib inline\n",
    "%config InlineBackend.figure_format = 'retina'\n",
    "\n",
    "import helper\n",
    "import numpy as np\n",
    "\n",
    "# Explore the dataset\n",
    "batch_id = 1\n",
    "sample_id = 5\n",
    "helper.display_stats(cifar10_dataset_folder_path, batch_id, sample_id)"
   ]
  },
  {
   "cell_type": "markdown",
   "metadata": {
    "deletable": true,
    "editable": true
   },
   "source": [
    "## Implement Preprocess Functions\n",
    "### Normalize\n",
    "In the cell below, implement the `normalize` function to take in image data, `x`, and return it as a normalized Numpy array. The values should be in the range of 0 to 1, inclusive.  The return object should be the same shape as `x`."
   ]
  },
  {
   "cell_type": "code",
   "execution_count": 4,
   "metadata": {
    "collapsed": false,
    "deletable": true,
    "editable": true
   },
   "outputs": [
    {
     "name": "stdout",
     "output_type": "stream",
     "text": [
      "Tests Passed\n"
     ]
    }
   ],
   "source": [
    "def normalize(x):\n",
    "    \"\"\"\n",
    "    Normalize a list of sample image data in the range of 0 to 1\n",
    "    : x: List of image data.  The image shape is (32, 32, 3)\n",
    "    : return: Numpy array of normalize data\n",
    "    \"\"\"\n",
    "    raw = list()\n",
    "    for image in x:\n",
    "        image = image/ 255.0\n",
    "        raw.append(image)\n",
    "    normalized_data = np.array(raw)\n",
    "        \n",
    "    # TODO: Implement Function\n",
    "    return normalized_data\n",
    "\n",
    "\n",
    "\"\"\"\n",
    "DON'T MODIFY ANYTHING IN THIS CELL THAT IS BELOW THIS LINE\n",
    "\"\"\"\n",
    "tests.test_normalize(normalize)"
   ]
  },
  {
   "cell_type": "markdown",
   "metadata": {
    "deletable": true,
    "editable": true
   },
   "source": [
    "### One-hot encode\n",
    "Just like the previous code cell, you'll be implementing a function for preprocessing.  This time, you'll implement the `one_hot_encode` function. The input, `x`, are a list of labels.  Implement the function to return the list of labels as One-Hot encoded Numpy array.  The possible values for labels are 0 to 9. The one-hot encoding function should return the same encoding for each value between each call to `one_hot_encode`.  Make sure to save the map of encodings outside the function.\n",
    "\n",
    "Hint: Don't reinvent the wheel."
   ]
  },
  {
   "cell_type": "code",
   "execution_count": 5,
   "metadata": {
    "collapsed": false,
    "deletable": true,
    "editable": true
   },
   "outputs": [
    {
     "name": "stdout",
     "output_type": "stream",
     "text": [
      "Tests Passed\n"
     ]
    }
   ],
   "source": [
    "def one_hot_encode(x):\n",
    "    \"\"\"\n",
    "    One hot encode a list of sample labels. Return a one-hot encoded vector for each label.\n",
    "    : x: List of sample Labels\n",
    "    : return: Numpy array of one-hot encoded labels\n",
    "    \"\"\"\n",
    "    raw = np.zeros(shape = (len(x), 10))\n",
    "    for i, j in enumerate(x):\n",
    "        raw[i,j] = 1\n",
    "    return raw\n",
    "\n",
    "\n",
    "\"\"\"\n",
    "DON'T MODIFY ANYTHING IN THIS CELL THAT IS BELOW THIS LINE\n",
    "\"\"\"\n",
    "tests.test_one_hot_encode(one_hot_encode)"
   ]
  },
  {
   "cell_type": "markdown",
   "metadata": {
    "deletable": true,
    "editable": true
   },
   "source": [
    "### Randomize Data\n",
    "As you saw from exploring the data above, the order of the samples are randomized.  It doesn't hurt to randomize it again, but you don't need to for this dataset."
   ]
  },
  {
   "cell_type": "markdown",
   "metadata": {
    "deletable": true,
    "editable": true
   },
   "source": [
    "## Preprocess all the data and save it\n",
    "Running the code cell below will preprocess all the CIFAR-10 data and save it to file. The code below also uses 10% of the training data for validation."
   ]
  },
  {
   "cell_type": "code",
   "execution_count": 37,
   "metadata": {
    "collapsed": false,
    "deletable": true,
    "editable": true
   },
   "outputs": [],
   "source": [
    "\"\"\"\n",
    "DON'T MODIFY ANYTHING IN THIS CELL\n",
    "\"\"\"\n",
    "# Preprocess Training, Validation, and Testing Data\n",
    "helper.preprocess_and_save_data(cifar10_dataset_folder_path, normalize, one_hot_encode)"
   ]
  },
  {
   "cell_type": "markdown",
   "metadata": {
    "deletable": true,
    "editable": true
   },
   "source": [
    "# Check Point\n",
    "This is your first checkpoint.  If you ever decide to come back to this notebook or have to restart the notebook, you can start from here.  The preprocessed data has been saved to disk."
   ]
  },
  {
   "cell_type": "code",
   "execution_count": 38,
   "metadata": {
    "collapsed": true,
    "deletable": true,
    "editable": true
   },
   "outputs": [],
   "source": [
    "\"\"\"\n",
    "DON'T MODIFY ANYTHING IN THIS CELL\n",
    "\"\"\"\n",
    "import pickle\n",
    "import problem_unittests as tests\n",
    "import helper\n",
    "\n",
    "# Load the Preprocessed Validation data\n",
    "valid_features, valid_labels = pickle.load(open('preprocess_validation.p', mode='rb'))"
   ]
  },
  {
   "cell_type": "markdown",
   "metadata": {
    "deletable": true,
    "editable": true
   },
   "source": [
    "## Build the network\n",
    "For the neural network, you'll build each layer into a function.  Most of the code you've seen has been outside of functions. To test your code more thoroughly, we require that you put each layer in a function.  This allows us to give you better feedback and test for simple mistakes using our unittests before you submit your project.\n",
    "\n",
    ">**Note:** If you're finding it hard to dedicate enough time for this course each week, we've provided a small shortcut to this part of the project. In the next couple of problems, you'll have the option to use classes from the [TensorFlow Layers](https://www.tensorflow.org/api_docs/python/tf/layers) or [TensorFlow Layers (contrib)](https://www.tensorflow.org/api_guides/python/contrib.layers) packages to build each layer, except the layers you build in the \"Convolutional and Max Pooling Layer\" section.  TF Layers is similar to Keras's and TFLearn's abstraction to layers, so it's easy to pickup.\n",
    "\n",
    ">However, if you would like to get the most out of this course, try to solve all the problems _without_ using anything from the TF Layers packages. You **can** still use classes from other packages that happen to have the same name as ones you find in TF Layers! For example, instead of using the TF Layers version of the `conv2d` class, [tf.layers.conv2d](https://www.tensorflow.org/api_docs/python/tf/layers/conv2d), you would want to use the TF Neural Network version of `conv2d`, [tf.nn.conv2d](https://www.tensorflow.org/api_docs/python/tf/nn/conv2d). \n",
    "\n",
    "Let's begin!\n",
    "\n",
    "### Input\n",
    "The neural network needs to read the image data, one-hot encoded labels, and dropout keep probability. Implement the following functions\n",
    "* Implement `neural_net_image_input`\n",
    " * Return a [TF Placeholder](https://www.tensorflow.org/api_docs/python/tf/placeholder)\n",
    " * Set the shape using `image_shape` with batch size set to `None`.\n",
    " * Name the TensorFlow placeholder \"x\" using the TensorFlow `name` parameter in the [TF Placeholder](https://www.tensorflow.org/api_docs/python/tf/placeholder).\n",
    "* Implement `neural_net_label_input`\n",
    " * Return a [TF Placeholder](https://www.tensorflow.org/api_docs/python/tf/placeholder)\n",
    " * Set the shape using `n_classes` with batch size set to `None`.\n",
    " * Name the TensorFlow placeholder \"y\" using the TensorFlow `name` parameter in the [TF Placeholder](https://www.tensorflow.org/api_docs/python/tf/placeholder).\n",
    "* Implement `neural_net_keep_prob_input`\n",
    " * Return a [TF Placeholder](https://www.tensorflow.org/api_docs/python/tf/placeholder) for dropout keep probability.\n",
    " * Name the TensorFlow placeholder \"keep_prob\" using the TensorFlow `name` parameter in the [TF Placeholder](https://www.tensorflow.org/api_docs/python/tf/placeholder).\n",
    "\n",
    "These names will be used at the end of the project to load your saved model.\n",
    "\n",
    "Note: `None` for shapes in TensorFlow allow for a dynamic size."
   ]
  },
  {
   "cell_type": "code",
   "execution_count": 6,
   "metadata": {
    "collapsed": false,
    "deletable": true,
    "editable": true
   },
   "outputs": [
    {
     "name": "stdout",
     "output_type": "stream",
     "text": [
      "Image Input Tests Passed.\n",
      "Label Input Tests Passed.\n",
      "Keep Prob Tests Passed.\n"
     ]
    }
   ],
   "source": [
    "import tensorflow as tf\n",
    "\n",
    "def neural_net_image_input(image_shape):\n",
    "    \"\"\"\n",
    "    Return a Tensor for a bach of image input\n",
    "    : image_shape: Shape of the images\n",
    "    : return: Tensor for image input.\n",
    "    \"\"\"\n",
    "    # TODO: Implement Function\n",
    "    return tf.placeholder(dtype = tf.float32, shape = (None, image_shape[0], image_shape[1], image_shape[2]), name = 'x')\n",
    "\n",
    "\n",
    "\n",
    "def neural_net_label_input(n_classes):\n",
    "    \"\"\"\n",
    "    Return a Tensor for a batch of label input\n",
    "    : n_classes: Number of classes\n",
    "    : return: Tensor for label input.\n",
    "    \"\"\"\n",
    "    # TODO: Implement Function\n",
    "    return tf.placeholder(dtype = tf.float32, shape = (None, n_classes), name = 'y')\n",
    "\n",
    "\n",
    "\n",
    "def neural_net_keep_prob_input():\n",
    "    \"\"\"\n",
    "    Return a Tensor for keep probability\n",
    "    : return: Tensor for keep probability.\n",
    "    \"\"\"\n",
    "    # TODO: Implement Function\n",
    "    return tf.placeholder(dtype = tf.float32, name = 'keep_prob')\n",
    "\n",
    "\n",
    "\n",
    "\"\"\"\n",
    "DON'T MODIFY ANYTHING IN THIS CELL THAT IS BELOW THIS LINE\n",
    "\"\"\"\n",
    "tf.reset_default_graph()\n",
    "tests.test_nn_image_inputs(neural_net_image_input)\n",
    "tests.test_nn_label_inputs(neural_net_label_input)\n",
    "tests.test_nn_keep_prob_inputs(neural_net_keep_prob_input)"
   ]
  },
  {
   "cell_type": "markdown",
   "metadata": {
    "deletable": true,
    "editable": true
   },
   "source": [
    "### Convolution and Max Pooling Layer\n",
    "Convolution layers have a lot of success with images. For this code cell, you should implement the function `conv2d_maxpool` to apply convolution then max pooling:\n",
    "* Create the weight and bias using `conv_ksize`, `conv_num_outputs` and the shape of `x_tensor`.\n",
    "* Apply a convolution to `x_tensor` using weight and `conv_strides`.\n",
    " * We recommend you use same padding, but you're welcome to use any padding.\n",
    "* Add bias\n",
    "* Add a nonlinear activation to the convolution.\n",
    "* Apply Max Pooling using `pool_ksize` and `pool_strides`.\n",
    " * We recommend you use same padding, but you're welcome to use any padding.\n",
    "\n",
    "**Note:** You **can't** use [TensorFlow Layers](https://www.tensorflow.org/api_docs/python/tf/layers) or [TensorFlow Layers (contrib)](https://www.tensorflow.org/api_guides/python/contrib.layers) for **this** layer, but you can still use TensorFlow's [Neural Network](https://www.tensorflow.org/api_docs/python/tf/nn) package. You may still use the shortcut option for all the **other** layers."
   ]
  },
  {
   "cell_type": "code",
   "execution_count": 80,
   "metadata": {
    "collapsed": false,
    "deletable": true,
    "editable": true
   },
   "outputs": [
    {
     "name": "stdout",
     "output_type": "stream",
     "text": [
      "Tests Passed\n"
     ]
    }
   ],
   "source": [
    "def conv2d_maxpool(x_tensor, conv_num_outputs, conv_ksize, conv_strides, pool_ksize, pool_strides):\n",
    "    \"\"\"\n",
    "    Apply convolution then max pooling to x_tensor\n",
    "    :param x_tensor: TensorFlow Tensor\n",
    "    :param conv_num_outputs: Number of outputs for the convolutional layer\n",
    "    :param conv_ksize: kernal size 2-D Tuple for the convolutional layer\n",
    "    :param conv_strides: Stride 2-D Tuple for convolution\n",
    "    :param pool_ksize: kernal size 2-D Tuple for pool\n",
    "    :param pool_strides: Stride 2-D Tuple for pool\n",
    "    : return: A tensor that represents convolution and max pooling of x_tensor\n",
    "    \"\"\"\n",
    "    conv = tf.contrib.layers.conv2d(inputs = x_tensor, kernel_size = conv_ksize, stride = conv_strides, \\\n",
    "                                    padding = \"SAME\", activation_fn = tf.nn.relu, num_outputs = conv_num_outputs)\n",
    "    max_pool = tf.contrib.layers.max_pool2d(inputs = conv, kernel_size = pool_ksize, stride = pool_strides, \\\n",
    "                                            padding = 'SAME')\n",
    "    return max_pool \n",
    "\n",
    "\n",
    "\"\"\"\n",
    "DON'T MODIFY ANYTHING IN THIS CELL THAT IS BELOW THIS LINE\n",
    "\"\"\"\n",
    "tests.test_con_pool(conv2d_maxpool)"
   ]
  },
  {
   "cell_type": "markdown",
   "metadata": {
    "deletable": true,
    "editable": true
   },
   "source": [
    "### Flatten Layer\n",
    "Implement the `flatten` function to change the dimension of `x_tensor` from a 4-D tensor to a 2-D tensor.  The output should be the shape (*Batch Size*, *Flattened Image Size*). Shortcut option: you can use classes from the [TensorFlow Layers](https://www.tensorflow.org/api_docs/python/tf/layers) or [TensorFlow Layers (contrib)](https://www.tensorflow.org/api_guides/python/contrib.layers) packages for this layer. For more of a challenge, only use other TensorFlow packages."
   ]
  },
  {
   "cell_type": "code",
   "execution_count": 81,
   "metadata": {
    "collapsed": false,
    "deletable": true,
    "editable": true
   },
   "outputs": [
    {
     "name": "stdout",
     "output_type": "stream",
     "text": [
      "Tests Passed\n"
     ]
    }
   ],
   "source": [
    "def flatten(x_tensor):\n",
    "    \"\"\"\n",
    "    Flatten x_tensor to (Batch Size, Flattened Image Size)\n",
    "    : x_tensor: A tensor of size (Batch Size, ...), where ... are the image dimensions.\n",
    "    : return: A tensor of size (Batch Size, Flattened Image Size).\n",
    "    \"\"\"\n",
    "    flatten = tf.contrib.layers.flatten(inputs = x_tensor)\n",
    "    return flatten\n",
    "\n",
    "\"\"\"\n",
    "DON'T MODIFY ANYTHING IN THIS CELL THAT IS BELOW THIS LINE\n",
    "\"\"\"\n",
    "tests.test_flatten(flatten)"
   ]
  },
  {
   "cell_type": "markdown",
   "metadata": {
    "deletable": true,
    "editable": true
   },
   "source": [
    "### Fully-Connected Layer\n",
    "Implement the `fully_conn` function to apply a fully connected layer to `x_tensor` with the shape (*Batch Size*, *num_outputs*). Shortcut option: you can use classes from the [TensorFlow Layers](https://www.tensorflow.org/api_docs/python/tf/layers) or [TensorFlow Layers (contrib)](https://www.tensorflow.org/api_guides/python/contrib.layers) packages for this layer. For more of a challenge, only use other TensorFlow packages."
   ]
  },
  {
   "cell_type": "code",
   "execution_count": 82,
   "metadata": {
    "collapsed": false,
    "deletable": true,
    "editable": true
   },
   "outputs": [
    {
     "name": "stdout",
     "output_type": "stream",
     "text": [
      "Tests Passed\n"
     ]
    }
   ],
   "source": [
    "def fully_conn(x_tensor, num_outputs):\n",
    "    \"\"\"\n",
    "    Apply a fully connected layer to x_tensor using weight and bias\n",
    "    : x_tensor: A 2-D tensor where the first dimension is batch size.\n",
    "    : num_outputs: The number of output that the new tensor should be.\n",
    "    : return: A 2-D tensor where the second dimension is num_outputs.\n",
    "    \"\"\"\n",
    "    dense = tf.contrib.layers.fully_connected(inputs = x_tensor, activation_fn = tf.nn.relu, num_outputs = num_outputs)\n",
    "    return dense\n",
    "\n",
    "\"\"\"\n",
    "DON'T MODIFY ANYTHING IN THIS CELL THAT IS BELOW THIS LINE\n",
    "\"\"\"\n",
    "tests.test_fully_conn(fully_conn)"
   ]
  },
  {
   "cell_type": "markdown",
   "metadata": {
    "deletable": true,
    "editable": true
   },
   "source": [
    "### Output Layer\n",
    "Implement the `output` function to apply a fully connected layer to `x_tensor` with the shape (*Batch Size*, *num_outputs*). Shortcut option: you can use classes from the [TensorFlow Layers](https://www.tensorflow.org/api_docs/python/tf/layers) or [TensorFlow Layers (contrib)](https://www.tensorflow.org/api_guides/python/contrib.layers) packages for this layer. For more of a challenge, only use other TensorFlow packages.\n",
    "\n",
    "**Note:** Activation, softmax, or cross entropy should **not** be applied to this."
   ]
  },
  {
   "cell_type": "code",
   "execution_count": 83,
   "metadata": {
    "collapsed": false,
    "deletable": true,
    "editable": true
   },
   "outputs": [
    {
     "name": "stdout",
     "output_type": "stream",
     "text": [
      "Tests Passed\n"
     ]
    }
   ],
   "source": [
    "def output(x_tensor, num_outputs):\n",
    "    \"\"\"\n",
    "    Apply a output layer to x_tensor using weight and bias\n",
    "    : x_tensor: A 2-D tensor where the first dimension is batch size.\n",
    "    : num_outputs: The number of output that the new tensor should be.\n",
    "    : return: A 2-D tensor where the second dimension is num_outputs.\n",
    "    \"\"\"\n",
    "    output = tf.contrib.layers.fully_connected(inputs = x_tensor, num_outputs = num_outputs,\\\n",
    "                                               activation_fn = tf.nn.softmax)\n",
    "    return output\n",
    "\n",
    "\n",
    "\"\"\"\n",
    "DON'T MODIFY ANYTHING IN THIS CELL THAT IS BELOW THIS LINE\n",
    "\"\"\"\n",
    "tests.test_output(output)"
   ]
  },
  {
   "cell_type": "markdown",
   "metadata": {
    "deletable": true,
    "editable": true
   },
   "source": [
    "### Create Convolutional Model\n",
    "Implement the function `conv_net` to create a convolutional neural network model. The function takes in a batch of images, `x`, and outputs logits.  Use the layers you created above to create this model:\n",
    "\n",
    "* Apply 1, 2, or 3 Convolution and Max Pool layers\n",
    "* Apply a Flatten Layer\n",
    "* Apply 1, 2, or 3 Fully Connected Layers\n",
    "* Apply an Output Layer\n",
    "* Return the output\n",
    "* Apply [TensorFlow's Dropout](https://www.tensorflow.org/api_docs/python/tf/nn/dropout) to one or more layers in the model using `keep_prob`. "
   ]
  },
  {
   "cell_type": "code",
   "execution_count": 84,
   "metadata": {
    "collapsed": false,
    "deletable": true,
    "editable": true
   },
   "outputs": [
    {
     "name": "stdout",
     "output_type": "stream",
     "text": [
      "Neural Network Built!\n"
     ]
    }
   ],
   "source": [
    "def conv_net(x, keep_prob):\n",
    "    \"\"\"\n",
    "    Create a convolutional neural network model\n",
    "    : x: Placeholder tensor that holds image data.\n",
    "    : keep_prob: Placeholder tensor that hold dropout keep probability.\n",
    "    : return: Tensor that represents logits\n",
    "    \"\"\"\n",
    "    # TODO: Apply 1, 2, or 3 Convolution and Max Pool layers\n",
    "    #    Play around with different number of outputs, kernel size and stride\n",
    "    # Function Definition from Above:\n",
    "    #    conv2d_maxpool(x_tensor, conv_num_outputs, conv_ksize, conv_strides, pool_ksize, pool_strides)\n",
    "    x = conv2d_maxpool(x, conv_num_outputs = 16, conv_ksize = (3,3), conv_strides = (1,1),\\\n",
    "                   pool_ksize = (2,2), pool_strides = (2,2))\n",
    "    x = conv2d_maxpool(x, conv_num_outputs = 32, conv_ksize = (3,3), conv_strides = (1,1),\\\n",
    "                   pool_ksize = (2,2), pool_strides = (2,2))\n",
    "    x = conv2d_maxpool(x, conv_num_outputs = 64, conv_ksize = (3,3), conv_strides = (1,1),\\\n",
    "                   pool_ksize = (2,2), pool_strides = (2,2))\n",
    "    \n",
    "    \n",
    "\n",
    "    # TODO: Apply a Flatten Layer\n",
    "    # Function Definition from Above:\n",
    "    #   flatten(x_tensor)\n",
    "    x = flatten(x)\n",
    "    \n",
    "\n",
    "    # TODO: Apply 1, 2, or 3 Fully Connected Layers\n",
    "    #    Play around with different number of outputs\n",
    "    # Function Definition from Above:\n",
    "    #   fully_conn(x_tensor, num_outputs)\n",
    "    x = fully_conn(x, num_outputs = 1024)\n",
    "    x = fully_conn(x, num_outputs = 256)\n",
    "    x = fully_conn(x, num_outputs = 64)\n",
    "\n",
    "\n",
    "    \n",
    "    # TODO: Apply an Output Layer\n",
    "    #    Set this to the number of classes\n",
    "    # Function Definition from Above:\n",
    "    #   output(x_tensor, num_outputs)\n",
    "    x = output(x, 10)\n",
    "    \n",
    "    \n",
    "    # TODO: return output\n",
    "    return x\n",
    "\n",
    "\n",
    "\"\"\"\n",
    "DON'T MODIFY ANYTHING IN THIS CELL THAT IS BELOW THIS LINE\n",
    "\"\"\"\n",
    "\n",
    "##############################\n",
    "## Build the Neural Network ##\n",
    "##############################\n",
    "\n",
    "# Remove previous weights, bias, inputs, etc..\n",
    "tf.reset_default_graph()\n",
    "\n",
    "# Inputs\n",
    "x = neural_net_image_input((32, 32, 3))\n",
    "y = neural_net_label_input(10)\n",
    "keep_prob = neural_net_keep_prob_input()\n",
    "\n",
    "# Model\n",
    "logits = conv_net(x, keep_prob)\n",
    "\n",
    "# Name logits Tensor, so that is can be loaded from disk after training\n",
    "logits = tf.identity(logits, name='logits')\n",
    "\n",
    "# Loss and Optimizer\n",
    "cost = tf.reduce_mean(tf.nn.softmax_cross_entropy_with_logits(logits=logits, labels=y))\n",
    "optimizer = tf.train.AdamOptimizer(learning_rate = 1e-3).minimize(cost)\n",
    "\n",
    "# Accuracy\n",
    "correct_pred = tf.equal(tf.argmax(logits, 1), tf.argmax(y, 1))\n",
    "accuracy = tf.reduce_mean(tf.cast(correct_pred, tf.float32), name='accuracy')\n",
    "\n",
    "tests.test_conv_net(conv_net)"
   ]
  },
  {
   "cell_type": "markdown",
   "metadata": {
    "deletable": true,
    "editable": true
   },
   "source": [
    "## Train the Neural Network\n",
    "### Single Optimization\n",
    "Implement the function `train_neural_network` to do a single optimization.  The optimization should use `optimizer` to optimize in `session` with a `feed_dict` of the following:\n",
    "* `x` for image input\n",
    "* `y` for labels\n",
    "* `keep_prob` for keep probability for dropout\n",
    "\n",
    "This function will be called for each batch, so `tf.global_variables_initializer()` has already been called.\n",
    "\n",
    "Note: Nothing needs to be returned. This function is only optimizing the neural network."
   ]
  },
  {
   "cell_type": "code",
   "execution_count": 85,
   "metadata": {
    "collapsed": false,
    "deletable": true,
    "editable": true
   },
   "outputs": [
    {
     "name": "stdout",
     "output_type": "stream",
     "text": [
      "Tests Passed\n"
     ]
    }
   ],
   "source": [
    "def train_neural_network(session, optimizer, keep_probability, feature_batch, label_batch):\n",
    "    \"\"\"\n",
    "    Optimize the session on a batch of images and labels\n",
    "    : session: Current TensorFlow session\n",
    "    : optimizer: TensorFlow optimizer function\n",
    "    : keep_probability: keep probability\n",
    "    : feature_batch: Batch of Numpy image data\n",
    "    : label_batch: Batch of Numpy label data\n",
    "    \"\"\"\n",
    "    # TODO: Implement Function\n",
    "    #cost = tf.reduce_mean(tf.nn.softmax_cross_entropy_with_logits(logits = ))\n",
    "    session.run(optimizer, feed_dict = {x: feature_batch, y: label_batch, keep_prob : keep_probability})\n",
    "\n",
    "\n",
    "\"\"\"\n",
    "DON'T MODIFY ANYTHING IN THIS CELL THAT IS BELOW THIS LINE\n",
    "\"\"\"\n",
    "tests.test_train_nn(train_neural_network)"
   ]
  },
  {
   "cell_type": "markdown",
   "metadata": {
    "deletable": true,
    "editable": true
   },
   "source": [
    "### Show Stats\n",
    "Implement the function `print_stats` to print loss and validation accuracy.  Use the global variables `valid_features` and `valid_labels` to calculate validation accuracy.  Use a keep probability of `1.0` to calculate the loss and validation accuracy."
   ]
  },
  {
   "cell_type": "code",
   "execution_count": 86,
   "metadata": {
    "collapsed": false,
    "deletable": true,
    "editable": true
   },
   "outputs": [],
   "source": [
    "def print_stats(session, feature_batch, label_batch, cost, accuracy):\n",
    "    \"\"\"\n",
    "    Print information about loss and validation accuracy\n",
    "    : session: Current TensorFlow session\n",
    "    : feature_batch: Batch of Numpy image data\n",
    "    : label_batch: Batch of Numpy label data\n",
    "    : cost: TensorFlow cost function\n",
    "    : accuracy: TensorFlow accuracy function\n",
    "    \"\"\"\n",
    "    # TODO: Implement Function\n",
    "    loss = session.run(cost, feed_dict = {x: feature_batch, y: label_batch, keep_prob: 1.0})\n",
    "    accuracy = session.run(accuracy, feed_dict = {x: valid_features, y: valid_labels, keep_prob: 1.0})\n",
    "    print (loss, accuracy)\n",
    "                                       \n"
   ]
  },
  {
   "cell_type": "markdown",
   "metadata": {
    "deletable": true,
    "editable": true
   },
   "source": [
    "### Hyperparameters\n",
    "Tune the following parameters:\n",
    "* Set `epochs` to the number of iterations until the network stops learning or start overfitting\n",
    "* Set `batch_size` to the highest number that your machine has memory for.  Most people set them to common sizes of memory:\n",
    " * 64\n",
    " * 128\n",
    " * 256\n",
    " * ...\n",
    "* Set `keep_probability` to the probability of keeping a node using dropout"
   ]
  },
  {
   "cell_type": "code",
   "execution_count": 91,
   "metadata": {
    "collapsed": true,
    "deletable": true,
    "editable": true
   },
   "outputs": [],
   "source": [
    "# TODO: Tune Parameters\n",
    "epochs = 40\n",
    "batch_size = 256\n",
    "keep_probability = 0.7"
   ]
  },
  {
   "cell_type": "markdown",
   "metadata": {
    "deletable": true,
    "editable": true
   },
   "source": [
    "### Train on a Single CIFAR-10 Batch\n",
    "Instead of training the neural network on all the CIFAR-10 batches of data, let's use a single batch. This should save time while you iterate on the model to get a better accuracy.  Once the final validation accuracy is 50% or greater, run the model on all the data in the next section."
   ]
  },
  {
   "cell_type": "code",
   "execution_count": 92,
   "metadata": {
    "collapsed": false,
    "deletable": true,
    "editable": true
   },
   "outputs": [
    {
     "name": "stdout",
     "output_type": "stream",
     "text": [
      "Checking the Training on a Single Batch...\n",
      "Epoch  1, CIFAR-10 Batch 1:  2.27506 0.2266\n",
      "Epoch  2, CIFAR-10 Batch 1:  2.14429 0.3296\n",
      "Epoch  3, CIFAR-10 Batch 1:  2.10373 0.3708\n",
      "Epoch  4, CIFAR-10 Batch 1:  2.09398 0.3854\n",
      "Epoch  5, CIFAR-10 Batch 1:  2.02899 0.4094\n",
      "Epoch  6, CIFAR-10 Batch 1:  1.98959 0.4224\n",
      "Epoch  7, CIFAR-10 Batch 1:  1.97168 0.4338\n",
      "Epoch  8, CIFAR-10 Batch 1:  1.90713 0.4522\n",
      "Epoch  9, CIFAR-10 Batch 1:  1.89815 0.4404\n",
      "Epoch 10, CIFAR-10 Batch 1:  1.89439 0.457\n",
      "Epoch 11, CIFAR-10 Batch 1:  1.85815 0.461\n",
      "Epoch 12, CIFAR-10 Batch 1:  1.91088 0.4848\n",
      "Epoch 13, CIFAR-10 Batch 1:  1.90086 0.4836\n",
      "Epoch 14, CIFAR-10 Batch 1:  1.88703 0.5012\n",
      "Epoch 15, CIFAR-10 Batch 1:  1.89193 0.5042\n",
      "Epoch 16, CIFAR-10 Batch 1:  1.83716 0.5182\n",
      "Epoch 17, CIFAR-10 Batch 1:  1.797 0.4922\n",
      "Epoch 18, CIFAR-10 Batch 1:  1.78258 0.5008\n",
      "Epoch 19, CIFAR-10 Batch 1:  1.76705 0.511\n",
      "Epoch 20, CIFAR-10 Batch 1:  1.77911 0.4724\n",
      "Epoch 21, CIFAR-10 Batch 1:  1.73436 0.5242\n",
      "Epoch 22, CIFAR-10 Batch 1:  1.69883 0.5172\n",
      "Epoch 23, CIFAR-10 Batch 1:  1.68825 0.5188\n",
      "Epoch 24, CIFAR-10 Batch 1:  1.69448 0.5068\n",
      "Epoch 25, CIFAR-10 Batch 1:  1.68576 0.554\n",
      "Epoch 26, CIFAR-10 Batch 1:  1.66352 0.5398\n",
      "Epoch 27, CIFAR-10 Batch 1:  1.66302 0.5352\n",
      "Epoch 28, CIFAR-10 Batch 1:  1.66076 0.5338\n",
      "Epoch 29, CIFAR-10 Batch 1:  1.68643 0.5126\n",
      "Epoch 30, CIFAR-10 Batch 1:  1.66267 0.5716\n",
      "Epoch 31, CIFAR-10 Batch 1:  1.67831 0.5414\n",
      "Epoch 32, CIFAR-10 Batch 1:  1.66288 0.5634\n",
      "Epoch 33, CIFAR-10 Batch 1:  1.66529 0.5604\n",
      "Epoch 34, CIFAR-10 Batch 1:  1.66103 0.5398\n",
      "Epoch 35, CIFAR-10 Batch 1:  1.65967 0.543\n",
      "Epoch 36, CIFAR-10 Batch 1:  1.66015 0.5452\n",
      "Epoch 37, CIFAR-10 Batch 1:  1.66069 0.5768\n",
      "Epoch 38, CIFAR-10 Batch 1:  1.65908 0.5622\n",
      "Epoch 39, CIFAR-10 Batch 1:  1.66081 0.5638\n",
      "Epoch 40, CIFAR-10 Batch 1:  1.66115 0.5444\n"
     ]
    }
   ],
   "source": [
    "\"\"\"\n",
    "DON'T MODIFY ANYTHING IN THIS CELL\n",
    "\"\"\"\n",
    "print('Checking the Training on a Single Batch...')\n",
    "with tf.Session() as sess:\n",
    "    # Initializing the variables\n",
    "    sess.run(tf.global_variables_initializer())\n",
    "    \n",
    "    # Training cycle\n",
    "    for epoch in range(epochs):\n",
    "        batch_i = 1\n",
    "        for batch_features, batch_labels in helper.load_preprocess_training_batch(batch_i, batch_size):\n",
    "            train_neural_network(sess, optimizer, keep_probability, batch_features, batch_labels)\n",
    "        print('Epoch {:>2}, CIFAR-10 Batch {}:  '.format(epoch + 1, batch_i), end='')\n",
    "        print_stats(sess, batch_features, batch_labels, cost, accuracy)"
   ]
  },
  {
   "cell_type": "markdown",
   "metadata": {
    "deletable": true,
    "editable": true
   },
   "source": [
    "### Fully Train the Model\n",
    "Now that you got a good accuracy with a single CIFAR-10 batch, try it with all five batches."
   ]
  },
  {
   "cell_type": "code",
   "execution_count": null,
   "metadata": {
    "collapsed": false,
    "deletable": true,
    "editable": true
   },
   "outputs": [
    {
     "name": "stdout",
     "output_type": "stream",
     "text": [
      "Training...\n",
      "Epoch  1, CIFAR-10 Batch 1:  2.24714 0.2324\n",
      "Epoch  1, CIFAR-10 Batch 2:  2.15443 0.264\n",
      "Epoch  1, CIFAR-10 Batch 3:  2.0946 0.3158\n",
      "Epoch  1, CIFAR-10 Batch 4:  2.06815 0.347\n",
      "Epoch  1, CIFAR-10 Batch 5:  1.99586 0.3584\n",
      "Epoch  2, CIFAR-10 Batch 1:  2.03111 0.3722\n",
      "Epoch  2, CIFAR-10 Batch 2:  2.04814 0.3884\n",
      "Epoch  2, CIFAR-10 Batch 3:  1.90953 0.4124\n",
      "Epoch  2, CIFAR-10 Batch 4:  1.98118 0.3586\n",
      "Epoch  2, CIFAR-10 Batch 5:  1.95598 0.417\n",
      "Epoch  3, CIFAR-10 Batch 1:  1.96107 0.4554\n",
      "Epoch  3, CIFAR-10 Batch 2:  1.9419 0.4366\n",
      "Epoch  3, CIFAR-10 Batch 3:  1.88724 0.4534\n",
      "Epoch  3, CIFAR-10 Batch 4:  1.89716 0.4692\n",
      "Epoch  3, CIFAR-10 Batch 5:  1.89201 0.4722\n",
      "Epoch  4, CIFAR-10 Batch 1:  1.90793 0.4678\n",
      "Epoch  4, CIFAR-10 Batch 2:  1.94704 0.5022\n",
      "Epoch  4, CIFAR-10 Batch 3:  1.84765 0.4712\n",
      "Epoch  4, CIFAR-10 Batch 4:  1.84948 0.4534\n",
      "Epoch  4, CIFAR-10 Batch 5:  1.82411 0.4976\n",
      "Epoch  5, CIFAR-10 Batch 1:  1.84319 0.5144\n",
      "Epoch  5, CIFAR-10 Batch 2:  1.88289 0.527\n",
      "Epoch  5, CIFAR-10 Batch 3:  1.72781 0.5174\n",
      "Epoch  5, CIFAR-10 Batch 4:  1.7472 0.5602\n",
      "Epoch  5, CIFAR-10 Batch 5:  1.78914 0.5506\n",
      "Epoch  6, CIFAR-10 Batch 1:  1.84519 0.5436\n",
      "Epoch  6, CIFAR-10 Batch 2:  1.79572 0.5662\n",
      "Epoch  6, CIFAR-10 Batch 3:  1.70053 0.5812\n",
      "Epoch  6, CIFAR-10 Batch 4:  1.72469 0.5578\n",
      "Epoch  6, CIFAR-10 Batch 5:  1.72027 0.573\n",
      "Epoch  7, CIFAR-10 Batch 1:  1.77144 0.5406\n",
      "Epoch  7, CIFAR-10 Batch 2:  1.69118 0.5564\n",
      "Epoch  7, CIFAR-10 Batch 3:  1.65324 0.5946\n",
      "Epoch  7, CIFAR-10 Batch 4:  1.69606 0.5774\n",
      "Epoch  7, CIFAR-10 Batch 5:  1.69397 0.5914\n",
      "Epoch  8, CIFAR-10 Batch 1:  1.71851 0.5956\n",
      "Epoch  8, CIFAR-10 Batch 2:  1.71494 0.5948\n",
      "Epoch  8, CIFAR-10 Batch 3:  1.66789 0.5816\n",
      "Epoch  8, CIFAR-10 Batch 4:  1.66281 0.5942\n",
      "Epoch  8, CIFAR-10 Batch 5:  1.6842 0.6288\n",
      "Epoch  9, CIFAR-10 Batch 1:  1.70362 0.6096\n",
      "Epoch  9, CIFAR-10 Batch 2:  1.68351 0.6108\n",
      "Epoch  9, CIFAR-10 Batch 3:  1.64332 0.6088\n",
      "Epoch  9, CIFAR-10 Batch 4:  1.63982 0.618\n",
      "Epoch  9, CIFAR-10 Batch 5:  1.63795 0.6344\n",
      "Epoch 10, CIFAR-10 Batch 1:  1.71502 0.624\n",
      "Epoch 10, CIFAR-10 Batch 2:  1.6773 0.6306\n",
      "Epoch 10, CIFAR-10 Batch 3:  1.60961 0.6342\n",
      "Epoch 10, CIFAR-10 Batch 4:  1.64077 0.6336\n",
      "Epoch 10, CIFAR-10 Batch 5:  1.63714 0.632\n",
      "Epoch 11, CIFAR-10 Batch 1:  1.68472 0.647\n",
      "Epoch 11, CIFAR-10 Batch 2:  1.66037 0.6434\n",
      "Epoch 11, CIFAR-10 Batch 3:  1.58136 0.6336\n",
      "Epoch 11, CIFAR-10 Batch 4:  1.60322 0.6318\n",
      "Epoch 11, CIFAR-10 Batch 5:  1.62925 0.6364\n",
      "Epoch 12, CIFAR-10 Batch 1:  1.66736 0.633\n",
      "Epoch 12, CIFAR-10 Batch 2:  1.66276 0.6258\n",
      "Epoch 12, CIFAR-10 Batch 3:  1.57527 0.6328\n",
      "Epoch 12, CIFAR-10 Batch 4:  1.58169 0.6474\n",
      "Epoch 12, CIFAR-10 Batch 5:  1.60644 0.648\n",
      "Epoch 13, CIFAR-10 Batch 1:  1.67719 0.635\n",
      "Epoch 13, CIFAR-10 Batch 2:  1.66182 0.635\n",
      "Epoch 13, CIFAR-10 Batch 3:  1.56175 0.6488\n",
      "Epoch 13, CIFAR-10 Batch 4:  1.55984 0.6636\n",
      "Epoch 13, CIFAR-10 Batch 5:  1.60653 0.657\n",
      "Epoch 14, CIFAR-10 Batch 1:  1.66199 0.6518\n",
      "Epoch 14, CIFAR-10 Batch 2:  1.65487 0.6554\n",
      "Epoch 14, CIFAR-10 Batch 3:  1.53745 0.6456\n",
      "Epoch 14, CIFAR-10 Batch 4:  1.56367 0.668\n",
      "Epoch 14, CIFAR-10 Batch 5:  1.59965 0.6632\n",
      "Epoch 15, CIFAR-10 Batch 1:  1.67535 0.6566\n",
      "Epoch 15, CIFAR-10 Batch 2:  1.58412 0.6538\n",
      "Epoch 15, CIFAR-10 Batch 3:  1.51281 0.6444\n",
      "Epoch 15, CIFAR-10 Batch 4:  1.54379 0.6714\n",
      "Epoch 15, CIFAR-10 Batch 5:  1.58768 0.674\n",
      "Epoch 16, CIFAR-10 Batch 1:  1.63603 0.6452\n",
      "Epoch 16, CIFAR-10 Batch 2:  1.58477 0.6708\n",
      "Epoch 16, CIFAR-10 Batch 3:  1.53276 0.6518\n",
      "Epoch 16, CIFAR-10 Batch 4:  1.54025 0.677\n",
      "Epoch 16, CIFAR-10 Batch 5:  1.58534 0.6794\n",
      "Epoch 17, CIFAR-10 Batch 1:  1.63231 0.6698\n",
      "Epoch 17, CIFAR-10 Batch 2:  1.58776 0.6622\n",
      "Epoch 17, CIFAR-10 Batch 3:  1.536 0.6816\n",
      "Epoch 17, CIFAR-10 Batch 4:  1.5635 0.6632\n",
      "Epoch 17, CIFAR-10 Batch 5:  1.56199 0.6744\n",
      "Epoch 18, CIFAR-10 Batch 1:  1.6126 0.6528\n",
      "Epoch 18, CIFAR-10 Batch 2:  1.58036 0.6816\n",
      "Epoch 18, CIFAR-10 Batch 3:  1.53662 0.67\n",
      "Epoch 18, CIFAR-10 Batch 4:  1.53735 0.6632\n",
      "Epoch 18, CIFAR-10 Batch 5:  1.58527 0.68\n",
      "Epoch 19, CIFAR-10 Batch 1:  1.61073 0.6532\n",
      "Epoch 19, CIFAR-10 Batch 2:  1.56234 0.66\n",
      "Epoch 19, CIFAR-10 Batch 3:  1.53195 0.6796\n",
      "Epoch 19, CIFAR-10 Batch 4:  1.53065 0.654\n",
      "Epoch 19, CIFAR-10 Batch 5:  1.56142 0.652\n",
      "Epoch 20, CIFAR-10 Batch 1:  1.61059 0.6698\n",
      "Epoch 20, CIFAR-10 Batch 2:  1.53714 0.6784\n",
      "Epoch 20, CIFAR-10 Batch 3:  1.51144 0.6652\n",
      "Epoch 20, CIFAR-10 Batch 4:  1.51133 0.6524\n",
      "Epoch 20, CIFAR-10 Batch 5:  1.56111 0.6748\n",
      "Epoch 21, CIFAR-10 Batch 1:  1.61118 0.669\n",
      "Epoch 21, CIFAR-10 Batch 2:  1.53445 0.6828\n",
      "Epoch 21, CIFAR-10 Batch 3:  1.51305 0.6538\n",
      "Epoch 21, CIFAR-10 Batch 4:  1.51259 0.6734\n",
      "Epoch 21, CIFAR-10 Batch 5:  1.56095 0.6902\n",
      "Epoch 22, CIFAR-10 Batch 1:  1.61038 0.6898\n",
      "Epoch 22, CIFAR-10 Batch 2:  1.51086 0.6802\n",
      "Epoch 22, CIFAR-10 Batch 3:  1.56095 0.6762\n",
      "Epoch 22, CIFAR-10 Batch 4:  1.49161 0.6862\n",
      "Epoch 22, CIFAR-10 Batch 5:  1.53542 0.6892\n",
      "Epoch 23, CIFAR-10 Batch 1:  1.6109 0.659\n",
      "Epoch 23, CIFAR-10 Batch 2:  1.48642 0.683\n",
      "Epoch 23, CIFAR-10 Batch 3:  1.51033 0.6854\n",
      "Epoch 23, CIFAR-10 Batch 4:  1.48591 0.678\n",
      "Epoch 23, CIFAR-10 Batch 5:  1.53469 0.6898\n",
      "Epoch 24, CIFAR-10 Batch 1:  1.63661 0.6776\n",
      "Epoch 24, CIFAR-10 Batch 2:  1.51124 0.666\n",
      "Epoch 24, CIFAR-10 Batch 3:  1.5114 0.6854\n",
      "Epoch 24, CIFAR-10 Batch 4:  1.5124 0.6842\n",
      "Epoch 24, CIFAR-10 Batch 5:  1.53577 0.686\n",
      "Epoch 25, CIFAR-10 Batch 1:  1.61514 0.6792\n",
      "Epoch 25, CIFAR-10 Batch 2:  1.51072 0.6816\n",
      "Epoch 25, CIFAR-10 Batch 3:  1.51335 0.6896\n",
      "Epoch 25, CIFAR-10 Batch 4:  1.48668 0.6746\n",
      "Epoch 25, CIFAR-10 Batch 5:  1.51671 0.6918\n",
      "Epoch 26, CIFAR-10 Batch 1:  1.61113 0.678\n",
      "Epoch 26, CIFAR-10 Batch 2:  1.51004 0.6802\n",
      "Epoch 26, CIFAR-10 Batch 3:  1.51122 0.6934\n",
      "Epoch 26, CIFAR-10 Batch 4:  1.51109 0.6786\n",
      "Epoch 26, CIFAR-10 Batch 5:  1.5113 0.7008\n",
      "Epoch 27, CIFAR-10 Batch 1:  1.61115 0.6902\n",
      "Epoch 27, CIFAR-10 Batch 2:  1.51083 0.6832\n",
      "Epoch 27, CIFAR-10 Batch 3:  1.51114 0.6876\n",
      "Epoch 27, CIFAR-10 Batch 4:  1.51274 0.691\n",
      "Epoch 27, CIFAR-10 Batch 5:  1.51302 0.6806\n",
      "Epoch 28, CIFAR-10 Batch 1:  1.61105 0.677\n",
      "Epoch 28, CIFAR-10 Batch 2:  1.51118 0.6878\n",
      "Epoch 28, CIFAR-10 Batch 3:  1.51118 0.6878\n",
      "Epoch 28, CIFAR-10 Batch 4:  1.48762 0.6892\n",
      "Epoch 28, CIFAR-10 Batch 5:  1.51126 0.6972\n",
      "Epoch 29, CIFAR-10 Batch 1:  1.61109 0.6858\n",
      "Epoch 29, CIFAR-10 Batch 2:  1.48616 0.6936\n",
      "Epoch 29, CIFAR-10 Batch 3:  1.51158 0.6854\n",
      "Epoch 29, CIFAR-10 Batch 4:  1.48625 0.6864\n",
      "Epoch 29, CIFAR-10 Batch 5:  1.51103 0.6866\n",
      "Epoch 30, CIFAR-10 Batch 1:  1.61047 0.6954\n",
      "Epoch 30, CIFAR-10 Batch 2:  1.51009 0.678\n",
      "Epoch 30, CIFAR-10 Batch 3:  1.51029 0.6852\n",
      "Epoch 30, CIFAR-10 Batch 4:  1.53055 0.6952\n",
      "Epoch 30, CIFAR-10 Batch 5:  1.51115 0.7044\n",
      "Epoch 31, CIFAR-10 Batch 1:  1.61039 0.694\n",
      "Epoch 31, CIFAR-10 Batch 2:  1.51115 0.6814\n",
      "Epoch 31, CIFAR-10 Batch 3:  1.51141 0.691\n",
      "Epoch 31, CIFAR-10 Batch 4:  1.51006 0.6942\n",
      "Epoch 31, CIFAR-10 Batch 5:  1.51116 0.697\n",
      "Epoch 32, CIFAR-10 Batch 1:  1.61011 0.6972\n",
      "Epoch 32, CIFAR-10 Batch 2:  1.48615 0.6932\n",
      "Epoch 32, CIFAR-10 Batch 3:  1.51119 0.6932\n",
      "Epoch 32, CIFAR-10 Batch 4:  1.48524 0.6984\n",
      "Epoch 32, CIFAR-10 Batch 5:  1.51308 0.6884\n",
      "Epoch 33, CIFAR-10 Batch 1:  1.61115 0.6988\n",
      "Epoch 33, CIFAR-10 Batch 2:  1.48615 0.6894\n",
      "Epoch 33, CIFAR-10 Batch 3:  1.51118 0.6812\n",
      "Epoch 33, CIFAR-10 Batch 4:  1.48625 0.7064\n",
      "Epoch 33, CIFAR-10 Batch 5:  1.51126 0.6908\n",
      "Epoch 34, CIFAR-10 Batch 1:  1.6111 0.6876\n",
      "Epoch 34, CIFAR-10 Batch 2:  1.48613 0.7036\n",
      "Epoch 34, CIFAR-10 Batch 3:  1.51117 0.6894\n",
      "Epoch 34, CIFAR-10 Batch 4:  1.55969 0.6962\n",
      "Epoch 34, CIFAR-10 Batch 5:  1.5115 0.6974\n",
      "Epoch 35, CIFAR-10 Batch 1:  1.61089 0.6898\n",
      "Epoch 35, CIFAR-10 Batch 2:  1.51115 0.6884\n",
      "Epoch 35, CIFAR-10 Batch 3:  1.51134 0.695\n",
      "Epoch 35, CIFAR-10 Batch 4:  1.48846 0.6996\n",
      "Epoch 35, CIFAR-10 Batch 5:  1.536 0.6766\n",
      "Epoch 36, CIFAR-10 Batch 1:  1.61042 0.6994\n",
      "Epoch 36, CIFAR-10 Batch 2:  1.48639 0.6984\n",
      "Epoch 36, CIFAR-10 Batch 3:  1.51114 0.7044\n",
      "Epoch 36, CIFAR-10 Batch 4:  1.48615 0.6854\n",
      "Epoch 36, CIFAR-10 Batch 5:  1.51111 0.7016\n",
      "Epoch 37, CIFAR-10 Batch 1:  1.61048 0.689\n",
      "Epoch 37, CIFAR-10 Batch 2:  1.48629 0.6912\n"
     ]
    }
   ],
   "source": [
    "\"\"\"\n",
    "DON'T MODIFY ANYTHING IN THIS CELL\n",
    "\"\"\"\n",
    "save_model_path = './image_classification'\n",
    "\n",
    "print('Training...')\n",
    "with tf.Session() as sess:\n",
    "    # Initializing the variables\n",
    "    sess.run(tf.global_variables_initializer())\n",
    "    \n",
    "    # Training cycle\n",
    "    for epoch in range(epochs):\n",
    "        # Loop over all batches\n",
    "        n_batches = 5\n",
    "        for batch_i in range(1, n_batches + 1):\n",
    "            for batch_features, batch_labels in helper.load_preprocess_training_batch(batch_i, batch_size):\n",
    "                train_neural_network(sess, optimizer, keep_probability, batch_features, batch_labels)\n",
    "            print('Epoch {:>2}, CIFAR-10 Batch {}:  '.format(epoch + 1, batch_i), end='')\n",
    "            print_stats(sess, batch_features, batch_labels, cost, accuracy)\n",
    "            \n",
    "    # Save Model\n",
    "    saver = tf.train.Saver()\n",
    "    save_path = saver.save(sess, save_model_path)"
   ]
  },
  {
   "cell_type": "markdown",
   "metadata": {
    "deletable": true,
    "editable": true
   },
   "source": [
    "# Checkpoint\n",
    "The model has been saved to disk.\n",
    "## Test Model\n",
    "Test your model against the test dataset.  This will be your final accuracy. You should have an accuracy greater than 50%. If you don't, keep tweaking the model architecture and parameters."
   ]
  },
  {
   "cell_type": "code",
   "execution_count": 76,
   "metadata": {
    "collapsed": false,
    "deletable": true,
    "editable": true
   },
   "outputs": [
    {
     "name": "stdout",
     "output_type": "stream",
     "text": [
      "Testing Accuracy: 0.6716796875\n",
      "\n"
     ]
    },
    {
     "data": {
      "image/png": "[encoded data removed]",
      "text/plain": [
       "<matplotlib.figure.Figure at 0x7f89fdf1c518>"
      ]
     },
     "metadata": {
      "image/png": {
       "height": 319,
       "width": 355
      }
     },
     "output_type": "display_data"
    }
   ],
   "source": [
    "\"\"\"\n",
    "DON'T MODIFY ANYTHING IN THIS CELL\n",
    "\"\"\"\n",
    "%matplotlib inline\n",
    "%config InlineBackend.figure_format = 'retina'\n",
    "\n",
    "import tensorflow as tf\n",
    "import pickle\n",
    "import helper\n",
    "import random\n",
    "\n",
    "# Set batch size if not already set\n",
    "try:\n",
    "    if batch_size:\n",
    "        pass\n",
    "except NameError:\n",
    "    batch_size = 64\n",
    "\n",
    "save_model_path = './image_classification'\n",
    "n_samples = 4\n",
    "top_n_predictions = 3\n",
    "\n",
    "def test_model():\n",
    "    \"\"\"\n",
    "    Test the saved model against the test dataset\n",
    "    \"\"\"\n",
    "\n",
    "    test_features, test_labels = pickle.load(open('preprocess_training.p', mode='rb'))\n",
    "    loaded_graph = tf.Graph()\n",
    "\n",
    "    with tf.Session(graph=loaded_graph) as sess:\n",
    "        # Load model\n",
    "        loader = tf.train.import_meta_graph(save_model_path + '.meta')\n",
    "        loader.restore(sess, save_model_path)\n",
    "\n",
    "        # Get Tensors from loaded model\n",
    "        loaded_x = loaded_graph.get_tensor_by_name('x:0')\n",
    "        loaded_y = loaded_graph.get_tensor_by_name('y:0')\n",
    "        loaded_keep_prob = loaded_graph.get_tensor_by_name('keep_prob:0')\n",
    "        loaded_logits = loaded_graph.get_tensor_by_name('logits:0')\n",
    "        loaded_acc = loaded_graph.get_tensor_by_name('accuracy:0')\n",
    "        \n",
    "        # Get accuracy in batches for memory limitations\n",
    "        test_batch_acc_total = 0\n",
    "        test_batch_count = 0\n",
    "        \n",
    "        for train_feature_batch, train_label_batch in helper.batch_features_labels(test_features, test_labels, batch_size):\n",
    "            test_batch_acc_total += sess.run(\n",
    "                loaded_acc,\n",
    "                feed_dict={loaded_x: train_feature_batch, loaded_y: train_label_batch, loaded_keep_prob: 1.0})\n",
    "            test_batch_count += 1\n",
    "\n",
    "        print('Testing Accuracy: {}\\n'.format(test_batch_acc_total/test_batch_count))\n",
    "\n",
    "        # Print Random Samples\n",
    "        random_test_features, random_test_labels = tuple(zip(*random.sample(list(zip(test_features, test_labels)), n_samples)))\n",
    "        random_test_predictions = sess.run(\n",
    "            tf.nn.top_k(tf.nn.softmax(loaded_logits), top_n_predictions),\n",
    "            feed_dict={loaded_x: random_test_features, loaded_y: random_test_labels, loaded_keep_prob: 1.0})\n",
    "        helper.display_image_predictions(random_test_features, random_test_labels, random_test_predictions)\n",
    "\n",
    "\n",
    "test_model()"
   ]
  },
  {
   "cell_type": "markdown",
   "metadata": {
    "deletable": true,
    "editable": true
   },
   "source": [
    "## Why 50-70% Accuracy?\n",
    "You might be wondering why you can't get an accuracy any higher. First things first, 50% isn't bad for a simple CNN.  Pure guessing would get you 10% accuracy. However, you might notice people are getting scores [well above 70%](http://rodrigob.github.io/are_we_there_yet/build/classification_datasets_results.html#43494641522d3130).  That's because we haven't taught you all there is to know about neural networks. We still need to cover a few more techniques.\n",
    "## Submitting This Project\n",
    "When submitting this project, make sure to run all the cells before saving the notebook.  Save the notebook file as \"dlnd_image_classification.ipynb\" and save it as a HTML file under \"File\" -> \"Download as\".  Include the \"helper.py\" and \"problem_unittests.py\" files in your submission."
   ]
  }
 ],
 "metadata": {
  "kernelspec": {
   "display_name": "Python 3",
   "language": "python",
   "name": "python3"
  },
  "language_info": {
   "codemirror_mode": {
    "name": "ipython",
    "version": 3
   },
   "file_extension": ".py",
   "mimetype": "text/x-python",
   "name": "python",
   "nbconvert_exporter": "python",
   "pygments_lexer": "ipython3",
   "version": "3.5.3"
  }
 },
 "nbformat": 4,
 "nbformat_minor": 0
}
